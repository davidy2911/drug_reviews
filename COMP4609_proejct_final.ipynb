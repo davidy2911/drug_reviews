{
 "cells": [
  {
   "cell_type": "code",
   "execution_count": 1,
   "metadata": {},
   "outputs": [],
   "source": [
    "#pip install fastai\n",
    "#pip install transformers\n",
    "#conda install pytorch torchvision cudatoolkit=10.1 -c pytorch"
   ]
  },
  {
   "cell_type": "code",
   "execution_count": 2,
   "metadata": {},
   "outputs": [],
   "source": [
    "import numpy as np \n",
    "import pandas as pd \n",
    "import matplotlib.pyplot as plt\n",
    "import os\n",
    "import random \n",
    "import torch\n",
    "import torch.optim as optim\n",
    "import re\n",
    "from sklearn.metrics import f1_score\n",
    "from functools import partial\n",
    "from sklearn.model_selection import train_test_split\n",
    "\n",
    "# fastai\n",
    "from fastai import *\n",
    "from fastai.text import *\n",
    "from fastai.callbacks import *\n",
    "\n",
    "# transformers\n",
    "from transformers import PreTrainedModel, PreTrainedTokenizer, PretrainedConfig\n",
    "from transformers import DistilBertForSequenceClassification, DistilBertTokenizer, DistilBertConfig\n",
    "from transformers import AdamW"
   ]
  },
  {
   "cell_type": "code",
   "execution_count": 3,
   "metadata": {},
   "outputs": [],
   "source": [
    "# parameters\n",
    "input_text = 'Reviews'\n",
    "output_label = 'Satisfaction'\n",
    "# length for input_text length\n",
    "max_length = 1024\n",
    "min_length = 1\n",
    "# split for train_test_split\n",
    "df_split = 0.9\n",
    "# labels for sentiment, it ranged from 1 to 5.\n",
    "num_labels = 5\n",
    "# float point 16 for GPU calculation, if false, use fp32 for better accuracy, but slower computation speed\n",
    "use_fp16 = False\n",
    "bs = 12\n",
    "\n",
    "# Pre-trained model\n",
    "MODEL_CLASSES = {\n",
    "    'distilbert': (DistilBertForSequenceClassification, DistilBertTokenizer, DistilBertConfig)\n",
    "}\n",
    "\n",
    "model_type = 'distilbert'\n",
    "pretrained_model_name = 'distilbert-base-uncased'\n",
    "model_class, tokenizer_class, config_class = MODEL_CLASSES[model_type]"
   ]
  },
  {
   "cell_type": "code",
   "execution_count": 4,
   "metadata": {},
   "outputs": [],
   "source": [
    "# Remove repeated characters\n",
    "def cleanhtml(raw_html):\n",
    "    cleantag = re.compile('\\.+')\n",
    "    cleantext = re.sub(cleantag, '.', raw_html)\n",
    "    cleantag = re.compile('\\*+')\n",
    "    cleantext = re.sub(cleantag, '', cleantext)\n",
    "    cleantag = re.compile('\\_+')\n",
    "    cleantext = re.sub(cleantag, '_', cleantext)\n",
    "    cleantag = re.compile('\\-+')\n",
    "    cleantext = re.sub(cleantag, '-', cleantext)\n",
    "    cleantag = re.compile('\\,+')\n",
    "    cleantext = re.sub(cleantag, ',', cleantext)\n",
    "    cleantag = re.compile('\\!+')\n",
    "    cleantext = re.sub(cleantag, '!', cleantext)\n",
    "    cleantag = re.compile('\\++')\n",
    "    cleantext = re.sub(cleantag, '', cleantext)\n",
    "    cleantag = re.compile('\\?+')\n",
    "    cleantext = re.sub(cleantag, '?', cleantext)\n",
    "    return cleantext"
   ]
  },
  {
   "cell_type": "code",
   "execution_count": 5,
   "metadata": {},
   "outputs": [],
   "source": [
    "def auto_truncate(val):\n",
    "    return val[:max_length]"
   ]
  },
  {
   "cell_type": "code",
   "execution_count": 6,
   "metadata": {},
   "outputs": [],
   "source": [
    "raw_data = pd.read_csv(\"webmd.csv\")"
   ]
  },
  {
   "cell_type": "code",
   "execution_count": 7,
   "metadata": {
    "scrolled": false
   },
   "outputs": [
    {
     "data": {
      "text/html": [
       "<div>\n",
       "<style scoped>\n",
       "    .dataframe tbody tr th:only-of-type {\n",
       "        vertical-align: middle;\n",
       "    }\n",
       "\n",
       "    .dataframe tbody tr th {\n",
       "        vertical-align: top;\n",
       "    }\n",
       "\n",
       "    .dataframe thead th {\n",
       "        text-align: right;\n",
       "    }\n",
       "</style>\n",
       "<table border=\"1\" class=\"dataframe\">\n",
       "  <thead>\n",
       "    <tr style=\"text-align: right;\">\n",
       "      <th></th>\n",
       "      <th>Age</th>\n",
       "      <th>Condition</th>\n",
       "      <th>Date</th>\n",
       "      <th>Drug</th>\n",
       "      <th>DrugId</th>\n",
       "      <th>EaseofUse</th>\n",
       "      <th>Effectiveness</th>\n",
       "      <th>Reviews</th>\n",
       "      <th>Satisfaction</th>\n",
       "      <th>Sex</th>\n",
       "      <th>Sides</th>\n",
       "      <th>UsefulCount</th>\n",
       "    </tr>\n",
       "  </thead>\n",
       "  <tbody>\n",
       "    <tr>\n",
       "      <th>0</th>\n",
       "      <td>75 or over</td>\n",
       "      <td>Stuffy Nose</td>\n",
       "      <td>9/21/2014</td>\n",
       "      <td>25dph-7.5peh</td>\n",
       "      <td>146724</td>\n",
       "      <td>5</td>\n",
       "      <td>5</td>\n",
       "      <td>I'm a retired physician and of all the meds I ...</td>\n",
       "      <td>5</td>\n",
       "      <td>Male</td>\n",
       "      <td>Drowsiness,  dizziness ,  dry mouth /nose/thro...</td>\n",
       "      <td>0</td>\n",
       "    </tr>\n",
       "    <tr>\n",
       "      <th>1</th>\n",
       "      <td>25-34</td>\n",
       "      <td>Cold Symptoms</td>\n",
       "      <td>1/13/2011</td>\n",
       "      <td>25dph-7.5peh</td>\n",
       "      <td>146724</td>\n",
       "      <td>5</td>\n",
       "      <td>5</td>\n",
       "      <td>cleared me right up even with my throat hurtin...</td>\n",
       "      <td>5</td>\n",
       "      <td>Female</td>\n",
       "      <td>Drowsiness,  dizziness ,  dry mouth /nose/thro...</td>\n",
       "      <td>1</td>\n",
       "    </tr>\n",
       "    <tr>\n",
       "      <th>2</th>\n",
       "      <td>65-74</td>\n",
       "      <td>Other</td>\n",
       "      <td>7/16/2012</td>\n",
       "      <td>warfarin (bulk) 100 % powder</td>\n",
       "      <td>144731</td>\n",
       "      <td>2</td>\n",
       "      <td>3</td>\n",
       "      <td>why did my PTINR go from a normal of 2.5 to ov...</td>\n",
       "      <td>3</td>\n",
       "      <td>Female</td>\n",
       "      <td></td>\n",
       "      <td>0</td>\n",
       "    </tr>\n",
       "    <tr>\n",
       "      <th>3</th>\n",
       "      <td>75 or over</td>\n",
       "      <td>Other</td>\n",
       "      <td>9/23/2010</td>\n",
       "      <td>warfarin (bulk) 100 % powder</td>\n",
       "      <td>144731</td>\n",
       "      <td>2</td>\n",
       "      <td>2</td>\n",
       "      <td>FALLING AND DON'T REALISE IT</td>\n",
       "      <td>1</td>\n",
       "      <td>Female</td>\n",
       "      <td></td>\n",
       "      <td>0</td>\n",
       "    </tr>\n",
       "    <tr>\n",
       "      <th>4</th>\n",
       "      <td>35-44</td>\n",
       "      <td>Other</td>\n",
       "      <td>1/6/2009</td>\n",
       "      <td>warfarin (bulk) 100 % powder</td>\n",
       "      <td>144731</td>\n",
       "      <td>1</td>\n",
       "      <td>1</td>\n",
       "      <td>My grandfather was prescribed this medication ...</td>\n",
       "      <td>1</td>\n",
       "      <td>Male</td>\n",
       "      <td></td>\n",
       "      <td>1</td>\n",
       "    </tr>\n",
       "  </tbody>\n",
       "</table>\n",
       "</div>"
      ],
      "text/plain": [
       "          Age      Condition       Date                          Drug  DrugId  \\\n",
       "0  75 or over    Stuffy Nose  9/21/2014                  25dph-7.5peh  146724   \n",
       "1       25-34  Cold Symptoms  1/13/2011                  25dph-7.5peh  146724   \n",
       "2       65-74          Other  7/16/2012  warfarin (bulk) 100 % powder  144731   \n",
       "3  75 or over          Other  9/23/2010  warfarin (bulk) 100 % powder  144731   \n",
       "4       35-44          Other   1/6/2009  warfarin (bulk) 100 % powder  144731   \n",
       "\n",
       "   EaseofUse  Effectiveness  \\\n",
       "0          5              5   \n",
       "1          5              5   \n",
       "2          2              3   \n",
       "3          2              2   \n",
       "4          1              1   \n",
       "\n",
       "                                             Reviews  Satisfaction     Sex  \\\n",
       "0  I'm a retired physician and of all the meds I ...             5    Male   \n",
       "1  cleared me right up even with my throat hurtin...             5  Female   \n",
       "2  why did my PTINR go from a normal of 2.5 to ov...             3  Female   \n",
       "3                       FALLING AND DON'T REALISE IT             1  Female   \n",
       "4  My grandfather was prescribed this medication ...             1    Male   \n",
       "\n",
       "                                               Sides  UsefulCount  \n",
       "0  Drowsiness,  dizziness ,  dry mouth /nose/thro...            0  \n",
       "1  Drowsiness,  dizziness ,  dry mouth /nose/thro...            1  \n",
       "2                                                               0  \n",
       "3                                                               0  \n",
       "4                                                               1  "
      ]
     },
     "execution_count": 7,
     "metadata": {},
     "output_type": "execute_result"
    }
   ],
   "source": [
    "raw_data.head()"
   ]
  },
  {
   "cell_type": "code",
   "execution_count": 8,
   "metadata": {},
   "outputs": [
    {
     "name": "stdout",
     "output_type": "stream",
     "text": [
      "Age                      12\n",
      "Condition              1806\n",
      "Date                   4524\n",
      "Drug                   7093\n",
      "DrugId                 6572\n",
      "EaseofUse                 7\n",
      "Effectiveness             7\n",
      "Reviews              250167\n",
      "Satisfaction              7\n",
      "Sex                       3\n",
      "Sides                  1651\n",
      "UsefulCount             148\n"
     ]
    }
   ],
   "source": [
    "# Show number of unique items\n",
    "cols = list(raw_data)\n",
    "for col in cols:\n",
    "    print('{:<15}  {:>10}'.format(col, len(raw_data[col].value_counts())))"
   ]
  },
  {
   "cell_type": "code",
   "execution_count": 9,
   "metadata": {},
   "outputs": [
    {
     "name": "stdout",
     "output_type": "stream",
     "text": [
      "45-54         80043\n",
      "55-64         75136\n",
      "35-44         55011\n",
      "25-34         49718\n",
      "65-74         41216\n",
      "19-24         24230\n",
      "75 or over    15226\n",
      "              12202\n",
      "13-18          7045\n",
      "7-12           1644\n",
      "3-6             838\n",
      "0-2             497\n",
      "Name: Age, dtype: int64\n",
      "\n",
      "\n",
      "Other                                                  49765\n",
      "Pain                                                   25232\n",
      "High Blood Pressure                                    23275\n",
      "Depression                                             14509\n",
      "Birth Control                                          12253\n",
      "                                                       ...  \n",
      "Additional Repair of Coronary Artery with Balloon          1\n",
      "Prevent Eye Pupil Constriction from Eye Surgery            1\n",
      "Pneumonia Acquired from Being Treated In a Hospital        1\n",
      "Cancer Metastasis to Bone                                  1\n",
      "Malignant Tumor of the Kidney                              1\n",
      "Name: Condition, Length: 1806, dtype: int64\n",
      "\n",
      "\n",
      "10/29/2007    404\n",
      "10/30/2007    316\n",
      "10/28/2007    315\n",
      "3/15/2010     308\n",
      "3/16/2010     295\n",
      "             ... \n",
      "9/2/2018        2\n",
      "6/28/2019       1\n",
      "6/22/2019       1\n",
      "10/27/2019      1\n",
      "10/20/2019      1\n",
      "Name: Date, Length: 4524, dtype: int64\n",
      "\n",
      "\n",
      "cymbalta                                            4648\n",
      "lisinopril                                          4269\n",
      "lisinopril solution                                 4269\n",
      "lexapro                                             4134\n",
      "hydrocodone-acetaminophen                           3944\n",
      "                                                    ... \n",
      "thick and easy oral powder packet not applicable       1\n",
      "zinacef 750 mg solution for injection                  1\n",
      "stay cool                                              1\n",
      "fiber gummies                                          1\n",
      "nitric acid liquid                                     1\n",
      "Name: Drug, Length: 7093, dtype: int64\n",
      "\n",
      "\n",
      "6873      8538\n",
      "1025      7868\n",
      "6007      7728\n",
      "4398      5864\n",
      "14208     5451\n",
      "          ... \n",
      "78479        1\n",
      "14766        1\n",
      "165950       1\n",
      "8244         1\n",
      "18441        1\n",
      "Name: DrugId, Length: 6572, dtype: int64\n",
      "\n",
      "\n",
      "5     192650\n",
      "4      74732\n",
      "3      41303\n",
      "1      35927\n",
      "2      18191\n",
      "6          2\n",
      "10         1\n",
      "Name: EaseofUse, dtype: int64\n",
      "\n",
      "\n",
      "5     130388\n",
      "4      81821\n",
      "3      60406\n",
      "1      59387\n",
      "2      30801\n",
      "6          2\n",
      "10         1\n",
      "Name: Effectiveness, dtype: int64\n",
      "\n",
      "\n",
      "                                                                                                                                                                                                                                                                                                                                                                                                                                                                                                                                                                                                                                                                41824\n",
      "good                                                                                                                                                                                                                                                                                                                                                                                                                                                                                                                                                                                                                                                              183\n",
      "this treatment is awsome.  I love drugs.                                                                                                                                                                                                                                                                                                                                                                                                                                                                                                                                                                                                                          172\n",
      "This drug is awesome.  I love drugs.                                                                                                                                                                                                                                                                                                                                                                                                                                                                                                                                                                                                                              128\n",
      "No Script or health Insurance needed to place and order with 10% discount for all purchased. It was nice to have some from them, I just hit them at. WhatsApp only:+1(775)7735306,\\nCall/Text:+1(775)7735306,\\nWickr or Kik: peterking2014.\\nEmail: peterkings2014@gmail.com.\\nMessage code: (Med16) Discreet Delivery                                                                                                                                                                                                                                                                                                                                             90\n",
      "                                                                                                                                                                                                                                                                                                                                                                                                                                                                                                                                                                                                                                                                ...  \n",
      "I have only used this drug one week and I'm the worse in years. Reminds me when I took Mevacor(lovostatin). The muscle pains are horrible. I'm also taking it with Welchol. I started with burning foot pain about a month ago and nothing helps. I'm tempted to just quit. I have a 20 year old case of rhabdymyalosis (muscle condition caused by taking statins). Not fun!! I have fibromyalgia because of all this. The Welchol (6 pills a day) only brought my overall cholesterol down 20 points from 420!! Now I take 10mg. of Lipitor. No blood tests yet. I go in April. I don't know if I can last that long with all the muscle aches and pains.         1\n",
      "I've been taking for vaginal dryness about a year ago. Ive had mild improvement. But now I notice hair thinning and it's getting worse. For anyone else who experienced hair loss did it grow back after you stopped?                                                                                                                                                                                                                                                                                                                                                                                                                                               1\n",
      "I'm 26 years old and have had ADD since I was a child but have only recently begun treatment.\\nI tried 18 mg of concerta for one day and my mood swings were so violent and irrational over an 8 hour period that if I felt like that unmedicated I would consider myself manic. I have never felt that way before and do not intend to take the medicine again.                                                                                                                                                                                                                                                                                                    1\n",
      "My husband was prescibed Coreg after a viral syndrome that affected his heart muscle. Severe back and leg pain and leg weakness. He stopped taking it and symptons are slowly easing up.                                                                                                                                                                                                                                                                                                                                                                                                                                                                            1\n",
      "still have a little itching and burnning dont know if it worked or not intill thur-day have doctors ,,9-20-12                                                                                                                                                                                                                                                                                                                                                                                                                                                                                                                                                       1\n"
     ]
    },
    {
     "name": "stdout",
     "output_type": "stream",
     "text": [
      "Name: Reviews, Length: 250167, dtype: int64\n",
      "\n",
      "\n",
      "5     111550\n",
      "1     100901\n",
      "4      63158\n",
      "3      51852\n",
      "2      35342\n",
      "6          2\n",
      "10         1\n",
      "Name: Satisfaction, dtype: int64\n",
      "\n",
      "\n",
      "Female    238226\n",
      "Male       98043\n",
      "           26537\n",
      "Name: Sex, dtype: int64\n",
      "\n",
      "\n",
      "                                                                                                                                                                       17460\n",
      "Nausea ,  vomiting ,  constipation ,  lightheadedness ,  dizziness , or drowsiness may occur.                                                                          15563\n",
      "Nausea ,  vomiting ,  headache ,  bloating ,  breast  tenderness, swelling of the  ankles /feet (fluid retention), or  weight  change may occur.                       12116\n",
      "Dizziness ,  lightheadedness , tiredness, or  headache  may occur as your body adjusts to the  medication . Dry  cough  may also occur.                                 9162\n",
      "Drowsiness,  dizziness , loss of coordination, tiredness, blurred/ double vision , unusual  eye  movements, or shaking (tremor) may occur.                              7790\n",
      "                                                                                                                                                                       ...  \n",
      "Numbness/tingling, change in the sense of taste,  nausea ,  diarrhea ,  weight loss ,  muscle spasms / twitching , tiredness,  dizziness , or drowsiness may occur.        1\n",
      "Diarrhea  is a common side effect.                                                                                                                                         1\n",
      "Nausea ,  diarrhea , and  upset stomach  may occur as your body adjusts to the  metformin .                                                                                1\n",
      "Pain/redness/swelling at the injection site, fever, tiredness,  headache ,  nausea , and  diarrhea  may occur.                                                             1\n",
      "Irritation, redness, or pain at the injection site may occur.                                                                                                              1\n",
      "Name: Sides, Length: 1651, dtype: int64\n",
      "\n",
      "\n",
      "0      71608\n",
      "1      46240\n",
      "2      34701\n",
      "3      27307\n",
      "4      22862\n",
      "       ...  \n",
      "125        1\n",
      "122        1\n",
      "116        1\n",
      "95         1\n",
      "255        1\n",
      "Name: UsefulCount, Length: 148, dtype: int64\n",
      "\n",
      "\n"
     ]
    }
   ],
   "source": [
    "# Show unique items frequencies\n",
    "for col in cols:\n",
    "    print(raw_data[col].value_counts())\n",
    "    print(\"\\n\")   "
   ]
  },
  {
   "cell_type": "code",
   "execution_count": 10,
   "metadata": {},
   "outputs": [
    {
     "data": {
      "text/plain": [
       "362806"
      ]
     },
     "execution_count": 10,
     "metadata": {},
     "output_type": "execute_result"
    }
   ],
   "source": [
    "raw_data.shape[0]"
   ]
  },
  {
   "cell_type": "code",
   "execution_count": 11,
   "metadata": {},
   "outputs": [
    {
     "data": {
      "text/plain": [
       "3145.0"
      ]
     },
     "execution_count": 11,
     "metadata": {},
     "output_type": "execute_result"
    }
   ],
   "source": [
    "# Store string length of each sample\n",
    "raw_data['length'] = raw_data[input_text].str.len() \n",
    "raw_data['length'].max()"
   ]
  },
  {
   "cell_type": "code",
   "execution_count": 12,
   "metadata": {},
   "outputs": [
    {
     "data": {
      "text/html": [
       "<div>\n",
       "<style scoped>\n",
       "    .dataframe tbody tr th:only-of-type {\n",
       "        vertical-align: middle;\n",
       "    }\n",
       "\n",
       "    .dataframe tbody tr th {\n",
       "        vertical-align: top;\n",
       "    }\n",
       "\n",
       "    .dataframe thead th {\n",
       "        text-align: right;\n",
       "    }\n",
       "</style>\n",
       "<table border=\"1\" class=\"dataframe\">\n",
       "  <thead>\n",
       "    <tr style=\"text-align: right;\">\n",
       "      <th></th>\n",
       "      <th>Age</th>\n",
       "      <th>Condition</th>\n",
       "      <th>Date</th>\n",
       "      <th>Drug</th>\n",
       "      <th>DrugId</th>\n",
       "      <th>EaseofUse</th>\n",
       "      <th>Effectiveness</th>\n",
       "      <th>Reviews</th>\n",
       "      <th>Satisfaction</th>\n",
       "      <th>Sex</th>\n",
       "      <th>Sides</th>\n",
       "      <th>UsefulCount</th>\n",
       "      <th>length</th>\n",
       "    </tr>\n",
       "  </thead>\n",
       "  <tbody>\n",
       "    <tr>\n",
       "      <th>8</th>\n",
       "      <td>25-34</td>\n",
       "      <td>Acne</td>\n",
       "      <td>4/27/2016</td>\n",
       "      <td>wymzya fe</td>\n",
       "      <td>163180</td>\n",
       "      <td>4</td>\n",
       "      <td>2</td>\n",
       "      <td></td>\n",
       "      <td>2</td>\n",
       "      <td>Female</td>\n",
       "      <td>Nausea ,  vomiting ,  headache ,  bloating ,  ...</td>\n",
       "      <td>1</td>\n",
       "      <td>1.0</td>\n",
       "    </tr>\n",
       "    <tr>\n",
       "      <th>30</th>\n",
       "      <td>55-64</td>\n",
       "      <td>Other</td>\n",
       "      <td>8/9/2015</td>\n",
       "      <td>lysiplex plus liquid</td>\n",
       "      <td>149297</td>\n",
       "      <td>1</td>\n",
       "      <td>1</td>\n",
       "      <td></td>\n",
       "      <td>1</td>\n",
       "      <td>Female</td>\n",
       "      <td>Constipation ,  diarrhea , or  upset stomach  ...</td>\n",
       "      <td>0</td>\n",
       "      <td>1.0</td>\n",
       "    </tr>\n",
       "    <tr>\n",
       "      <th>37</th>\n",
       "      <td>75 or over</td>\n",
       "      <td>Dandruff</td>\n",
       "      <td>9/2/2017</td>\n",
       "      <td>pyrithione zinc shampoo</td>\n",
       "      <td>170586</td>\n",
       "      <td>4</td>\n",
       "      <td>3</td>\n",
       "      <td></td>\n",
       "      <td>4</td>\n",
       "      <td>Female</td>\n",
       "      <td></td>\n",
       "      <td>0</td>\n",
       "      <td>1.0</td>\n",
       "    </tr>\n",
       "    <tr>\n",
       "      <th>77</th>\n",
       "      <td>45-54</td>\n",
       "      <td>Abnormally Long or Heavy Periods</td>\n",
       "      <td>7/27/2012</td>\n",
       "      <td>lysteda</td>\n",
       "      <td>154120</td>\n",
       "      <td>4</td>\n",
       "      <td>4</td>\n",
       "      <td></td>\n",
       "      <td>4</td>\n",
       "      <td>Female</td>\n",
       "      <td>Nausea ,  vomiting ,  diarrhea , and  muscle p...</td>\n",
       "      <td>1</td>\n",
       "      <td>1.0</td>\n",
       "    </tr>\n",
       "    <tr>\n",
       "      <th>129</th>\n",
       "      <td>35-44</td>\n",
       "      <td>Other</td>\n",
       "      <td>8/27/2011</td>\n",
       "      <td>lysteda</td>\n",
       "      <td>154120</td>\n",
       "      <td>4</td>\n",
       "      <td>4</td>\n",
       "      <td></td>\n",
       "      <td>4</td>\n",
       "      <td>Female</td>\n",
       "      <td>Nausea ,  vomiting ,  diarrhea , and  muscle p...</td>\n",
       "      <td>1</td>\n",
       "      <td>1.0</td>\n",
       "    </tr>\n",
       "  </tbody>\n",
       "</table>\n",
       "</div>"
      ],
      "text/plain": [
       "            Age                         Condition       Date  \\\n",
       "8         25-34                              Acne  4/27/2016   \n",
       "30        55-64                             Other   8/9/2015   \n",
       "37   75 or over                          Dandruff   9/2/2017   \n",
       "77        45-54  Abnormally Long or Heavy Periods  7/27/2012   \n",
       "129       35-44                             Other  8/27/2011   \n",
       "\n",
       "                        Drug  DrugId  EaseofUse  Effectiveness Reviews  \\\n",
       "8                  wymzya fe  163180          4              2           \n",
       "30      lysiplex plus liquid  149297          1              1           \n",
       "37   pyrithione zinc shampoo  170586          4              3           \n",
       "77                   lysteda  154120          4              4           \n",
       "129                  lysteda  154120          4              4           \n",
       "\n",
       "     Satisfaction     Sex                                              Sides  \\\n",
       "8               2  Female  Nausea ,  vomiting ,  headache ,  bloating ,  ...   \n",
       "30              1  Female  Constipation ,  diarrhea , or  upset stomach  ...   \n",
       "37              4  Female                                                      \n",
       "77              4  Female  Nausea ,  vomiting ,  diarrhea , and  muscle p...   \n",
       "129             4  Female  Nausea ,  vomiting ,  diarrhea , and  muscle p...   \n",
       "\n",
       "     UsefulCount  length  \n",
       "8              1     1.0  \n",
       "30             0     1.0  \n",
       "37             0     1.0  \n",
       "77             1     1.0  \n",
       "129            1     1.0  "
      ]
     },
     "execution_count": 12,
     "metadata": {},
     "output_type": "execute_result"
    }
   ],
   "source": [
    "# Show reviewText of length 1\n",
    "raw_data[raw_data.length ==1].head()"
   ]
  },
  {
   "cell_type": "code",
   "execution_count": 13,
   "metadata": {
    "scrolled": true
   },
   "outputs": [
    {
     "data": {
      "text/plain": [
       "Age               0\n",
       "Condition         0\n",
       "Date              0\n",
       "Drug              0\n",
       "DrugId            0\n",
       "EaseofUse         0\n",
       "Effectiveness     0\n",
       "Reviews          37\n",
       "Satisfaction      0\n",
       "Sex               0\n",
       "Sides             0\n",
       "UsefulCount       0\n",
       "length           37\n",
       "dtype: int64"
      ]
     },
     "execution_count": 13,
     "metadata": {},
     "output_type": "execute_result"
    }
   ],
   "source": [
    "# Show number of null entries\n",
    "raw_data.isnull().sum()"
   ]
  },
  {
   "cell_type": "code",
   "execution_count": 14,
   "metadata": {},
   "outputs": [
    {
     "name": "stderr",
     "output_type": "stream",
     "text": [
      "C:\\Users\\benla\\anaconda3\\lib\\site-packages\\ipykernel_launcher.py:4: SettingWithCopyWarning: \n",
      "A value is trying to be set on a copy of a slice from a DataFrame.\n",
      "Try using .loc[row_indexer,col_indexer] = value instead\n",
      "\n",
      "See the caveats in the documentation: https://pandas.pydata.org/pandas-docs/stable/user_guide/indexing.html#returning-a-view-versus-a-copy\n",
      "  after removing the cwd from sys.path.\n",
      "C:\\Users\\benla\\anaconda3\\lib\\site-packages\\ipykernel_launcher.py:5: SettingWithCopyWarning: \n",
      "A value is trying to be set on a copy of a slice from a DataFrame.\n",
      "Try using .loc[row_indexer,col_indexer] = value instead\n",
      "\n",
      "See the caveats in the documentation: https://pandas.pydata.org/pandas-docs/stable/user_guide/indexing.html#returning-a-view-versus-a-copy\n",
      "  \"\"\"\n",
      "C:\\Users\\benla\\anaconda3\\lib\\site-packages\\ipykernel_launcher.py:7: SettingWithCopyWarning: \n",
      "A value is trying to be set on a copy of a slice from a DataFrame\n",
      "\n",
      "See the caveats in the documentation: https://pandas.pydata.org/pandas-docs/stable/user_guide/indexing.html#returning-a-view-versus-a-copy\n",
      "  import sys\n"
     ]
    }
   ],
   "source": [
    "df = raw_data\n",
    "# Data cleaning\n",
    "df = df[df[input_text].str.len()> min_length]\n",
    "df[input_text] = df[input_text].map(auto_truncate)\n",
    "df[input_text] = df[input_text].map(cleanhtml)\n",
    "# Drop row if NaN in col Reviews\n",
    "df.dropna(inplace=True, subset = [input_text])\n",
    "df = df[~df[input_text].str.contains(\"div|html|http|/|<|\\.com\")]"
   ]
  },
  {
   "cell_type": "code",
   "execution_count": 15,
   "metadata": {},
   "outputs": [
    {
     "data": {
      "text/plain": [
       "Text(0, 0.5, 'label')"
      ]
     },
     "execution_count": 15,
     "metadata": {},
     "output_type": "execute_result"
    },
    {
     "data": {
      "image/png": "[encoded data removed]",
      "text/plain": [
       "<Figure size 432x288 with 1 Axes>"
      ]
     },
     "metadata": {
      "needs_background": "light"
     },
     "output_type": "display_data"
    }
   ],
   "source": [
    "ax = raw_data[output_label].value_counts(sort=False).plot(kind='barh')\n",
    "ax.set_xlabel('Number of Samples in training Set')\n",
    "ax.set_ylabel('label')"
   ]
  },
  {
   "cell_type": "code",
   "execution_count": 16,
   "metadata": {},
   "outputs": [],
   "source": [
    "df = df[(df.Satisfaction != 6) & (df.Satisfaction != 10)]"
   ]
  },
  {
   "cell_type": "code",
   "execution_count": 17,
   "metadata": {},
   "outputs": [
    {
     "data": {
      "text/plain": [
       "Text(0, 0.5, 'label')"
      ]
     },
     "execution_count": 17,
     "metadata": {},
     "output_type": "execute_result"
    },
    {
     "data": {
      "image/png": "[encoded data removed]",
      "text/plain": [
       "<Figure size 432x288 with 1 Axes>"
      ]
     },
     "metadata": {
      "needs_background": "light"
     },
     "output_type": "display_data"
    }
   ],
   "source": [
    "ax = df[output_label].value_counts(sort=False).plot(kind='barh')\n",
    "ax.set_xlabel('Number of Samples in training Set')\n",
    "ax.set_ylabel('label')"
   ]
  },
  {
   "cell_type": "code",
   "execution_count": 19,
   "metadata": {},
   "outputs": [
    {
     "data": {
      "text/plain": [
       "141775"
      ]
     },
     "execution_count": 19,
     "metadata": {},
     "output_type": "execute_result"
    }
   ],
   "source": [
    "# Class count\n",
    "count_1, count_2, count_3, count_4, count_5= df[output_label].value_counts()\n",
    "count_min = min(count_1, count_2, count_3, count_4, count_5)\n",
    "\n",
    "# Divide by class\n",
    "df_1 = df[df[output_label] == 1]\n",
    "df_2 = df[df[output_label] == 2]\n",
    "df_3 = df[df[output_label] == 3]\n",
    "df_4 = df[df[output_label] == 4]\n",
    "df_5 = df[df[output_label] == 5]\n",
    "\n",
    "# under sampling\n",
    "df_1_under = df_1.sample(count_min)\n",
    "df_2_under = df_2.sample(count_min)\n",
    "df_3_under = df_3.sample(count_min)\n",
    "df_4_under = df_4.sample(count_min)\n",
    "df_5_under = df_5.sample(count_min)\n",
    "df = df_1_under.append(df_2_under.append(df_3_under.append(df_4_under.append(df_5_under))))\n",
    "df = df.sample(frac=1)\n",
    "\n",
    "# cleaned data entries\n",
    "df.shape[0]"
   ]
  },
  {
   "cell_type": "code",
   "execution_count": 20,
   "metadata": {},
   "outputs": [
    {
     "data": {
      "text/plain": [
       "Text(0, 0.5, 'label')"
      ]
     },
     "execution_count": 20,
     "metadata": {},
     "output_type": "execute_result"
    },
    {
     "data": {
      "image/png": "[encoded data removed]",
      "text/plain": [
       "<Figure size 432x288 with 1 Axes>"
      ]
     },
     "metadata": {
      "needs_background": "light"
     },
     "output_type": "display_data"
    }
   ],
   "source": [
    "ax = df[output_label].value_counts(sort=False).plot(kind='barh')\n",
    "ax.set_xlabel('Number of Samples in training Set')\n",
    "ax.set_ylabel('label')"
   ]
  },
  {
   "cell_type": "code",
   "execution_count": 21,
   "metadata": {},
   "outputs": [
    {
     "name": "stdout",
     "output_type": "stream",
     "text": [
      "df 141775 \n",
      "df_train 127597 \n",
      "df_test 14178\n"
     ]
    }
   ],
   "source": [
    "#train test split\n",
    "df_train, df_test = train_test_split(df, train_size=df_split)\n",
    "print(\"df\", len(df), \"\\ndf_train\", len(df_train), \"\\ndf_test\", len(df_test))"
   ]
  },
  {
   "cell_type": "code",
   "execution_count": 22,
   "metadata": {},
   "outputs": [
    {
     "data": {
      "text/plain": [
       "Text(0, 0.5, 'label')"
      ]
     },
     "execution_count": 22,
     "metadata": {},
     "output_type": "execute_result"
    },
    {
     "data": {
      "image/png": "[encoded data removed]",
      "text/plain": [
       "<Figure size 432x288 with 1 Axes>"
      ]
     },
     "metadata": {
      "needs_background": "light"
     },
     "output_type": "display_data"
    }
   ],
   "source": [
    "ax = df[output_label].value_counts(sort=False).plot(kind='barh')\n",
    "ax.set_xlabel('Number of Samples in training Set')\n",
    "ax.set_ylabel('label')"
   ]
  },
  {
   "cell_type": "code",
   "execution_count": 23,
   "metadata": {},
   "outputs": [],
   "source": [
    "class TransformersBaseTokenizer(BaseTokenizer):\n",
    "    \"\"\"Wrapper around PreTrainedTokenizer to be compatible with fast.ai\"\"\"\n",
    "    def __init__(self, pretrained_tokenizer: PreTrainedTokenizer, model_type = 'bert', **kwargs):\n",
    "        self._pretrained_tokenizer = pretrained_tokenizer\n",
    "        self.max_seq_len = pretrained_tokenizer.max_len\n",
    "        self.model_type = model_type\n",
    "\n",
    "    def __call__(self, *args, **kwargs): \n",
    "        return self\n",
    "\n",
    "    def tokenizer(self, t:str) -> List[str]:\n",
    "        \"\"\"Limits the maximum sequence length and add the spesial tokens\"\"\"\n",
    "        CLS = self._pretrained_tokenizer.cls_token\n",
    "        SEP = self._pretrained_tokenizer.sep_token\n",
    "        if self.model_type in ['roberta']:\n",
    "            tokens = self._pretrained_tokenizer.tokenize(t, add_prefix_space=True)[:self.max_seq_len - 2]\n",
    "            tokens = [CLS] + tokens + [SEP]\n",
    "        else:\n",
    "            tokens = self._pretrained_tokenizer.tokenize(t)[:self.max_seq_len - 2]\n",
    "            if self.model_type in ['xlnet']:\n",
    "                tokens = tokens + [SEP] +  [CLS]\n",
    "            else:\n",
    "                tokens = [CLS] + tokens + [SEP]\n",
    "        return tokens"
   ]
  },
  {
   "cell_type": "code",
   "execution_count": 24,
   "metadata": {},
   "outputs": [],
   "source": [
    "transformer_tokenizer = tokenizer_class.from_pretrained(pretrained_model_name)\n",
    "transformer_base_tokenizer = TransformersBaseTokenizer(pretrained_tokenizer = transformer_tokenizer, model_type = model_type)\n",
    "fastai_tokenizer = Tokenizer(tok_func = transformer_base_tokenizer, pre_rules=[], post_rules=[], n_cpus=1)"
   ]
  },
  {
   "cell_type": "code",
   "execution_count": 25,
   "metadata": {},
   "outputs": [],
   "source": [
    "class TransformersVocab(Vocab):\n",
    "    def __init__(self, tokenizer: PreTrainedTokenizer):\n",
    "        super(TransformersVocab, self).__init__(itos = [])\n",
    "        self.tokenizer = tokenizer\n",
    "    \n",
    "    def numericalize(self, t:Collection[str]) -> List[int]:\n",
    "        \"Convert a list of tokens `t` to their ids.\"\n",
    "        return self.tokenizer.convert_tokens_to_ids(t)\n",
    "        #return self.tokenizer.encode(t)\n",
    "\n",
    "    def textify(self, nums:Collection[int], sep=' ') -> List[str]:\n",
    "        \"Convert a list of `nums` to their tokens.\"\n",
    "        nums = np.array(nums).tolist()\n",
    "        return sep.join(self.tokenizer.convert_ids_to_tokens(nums)) if sep is not None else self.tokenizer.convert_ids_to_tokens(nums)\n",
    "    \n",
    "    def __getstate__(self):\n",
    "        return {'itos':self.itos, 'tokenizer':self.tokenizer}\n",
    "\n",
    "    def __setstate__(self, state:dict):\n",
    "        self.itos = state['itos']\n",
    "        self.tokenizer = state['tokenizer']\n",
    "        self.stoi = collections.defaultdict(int,{v:k for k,v in enumerate(self.itos)})"
   ]
  },
  {
   "cell_type": "code",
   "execution_count": 26,
   "metadata": {},
   "outputs": [],
   "source": [
    "transformer_vocab =  TransformersVocab(tokenizer = transformer_tokenizer)\n",
    "numericalize_processor = NumericalizeProcessor(vocab=transformer_vocab)\n",
    "\n",
    "tokenize_processor = TokenizeProcessor(tokenizer=fastai_tokenizer, include_bos=False, include_eos=False)\n",
    "\n",
    "transformer_processor = [tokenize_processor, numericalize_processor]"
   ]
  },
  {
   "cell_type": "code",
   "execution_count": 27,
   "metadata": {},
   "outputs": [],
   "source": [
    "pad_first = 0\n",
    "pad_idx = transformer_tokenizer.pad_token_id"
   ]
  },
  {
   "cell_type": "code",
   "execution_count": 28,
   "metadata": {},
   "outputs": [
    {
     "name": "stdout",
     "output_type": "stream",
     "text": [
      "['i', 'switched', 'te', 'og', '##est', '##rel', '28', 'after', 'having', 'extremely', 'heavy', 'periods', '.', 'i', 'tried', 'various', 'bc', '##ps', 'before', 'this', ',', 'ya', '##z', ',', 'ya', '##z', '##min', ',', 'ale', '##sse', ',', 'etc', '.', 'nothing', 'helped', '.', 'this', 'pill', 'helped', 'me', 'in', 'one', 'month', '!', 'i', 'take', '3', 'packs', 'in', 'a', 'row', ',', 'with', 'no', 'periods', ',', 'then', 'i', 'take', 'the', 'place', '##bo', 'pills', 'for', 'a', 'week', 'before', 'taking', '3', 'months', 'in', 'a', 'row', 'again', '.', 'this', 'pill', 'was', 'a', 'life', '##sa', '##ver', '-', 'i', 'was', 'very', 'an', '##emi', '##c', 'before', ',', 'and', 'this', 'has', 'helped', 'that', 'as', 'well', '.', 'unfortunately', ',', 'i', 'gained', 'about', '10', '##lb', '##s', 'with', 'this', 'pill', ',', 'but', 'overall', ',', 'it', 'it', 'worth', 'it', '.']\n",
      "[1045, 7237, 8915, 13958, 4355, 16570, 2654, 2044, 2383, 5186, 3082, 6993, 1012, 1045, 2699, 2536, 4647, 4523, 2077, 2023, 1010, 8038, 2480, 1010, 8038, 2480, 10020, 1010, 15669, 11393, 1010, 4385, 1012, 2498, 3271, 1012, 2023, 17357, 3271, 2033, 1999, 2028, 3204, 999, 1045, 2202, 1017, 15173, 1999, 1037, 5216, 1010, 2007, 2053, 6993, 1010, 2059, 1045, 2202, 1996, 2173, 5092, 15345, 2005, 1037, 2733, 2077, 2635, 1017, 2706, 1999, 1037, 5216, 2153, 1012, 2023, 17357, 2001, 1037, 2166, 3736, 6299, 1011, 1045, 2001, 2200, 2019, 23238, 2278, 2077, 1010, 1998, 2023, 2038, 3271, 2008, 2004, 2092, 1012, 6854, 1010, 1045, 4227, 2055, 2184, 20850, 2015, 2007, 2023, 17357, 1010, 2021, 3452, 1010, 2009, 2009, 4276, 2009, 1012]\n"
     ]
    },
    {
     "data": {
      "text/plain": [
       "['i',\n",
       " 'switched',\n",
       " 'te',\n",
       " 'og',\n",
       " '##est',\n",
       " '##rel',\n",
       " '28',\n",
       " 'after',\n",
       " 'having',\n",
       " 'extremely',\n",
       " 'heavy',\n",
       " 'periods',\n",
       " '.',\n",
       " 'i',\n",
       " 'tried',\n",
       " 'various',\n",
       " 'bc',\n",
       " '##ps',\n",
       " 'before',\n",
       " 'this',\n",
       " ',',\n",
       " 'ya',\n",
       " '##z',\n",
       " ',',\n",
       " 'ya',\n",
       " '##z',\n",
       " '##min',\n",
       " ',',\n",
       " 'ale',\n",
       " '##sse',\n",
       " ',',\n",
       " 'etc',\n",
       " '.',\n",
       " 'nothing',\n",
       " 'helped',\n",
       " '.',\n",
       " 'this',\n",
       " 'pill',\n",
       " 'helped',\n",
       " 'me',\n",
       " 'in',\n",
       " 'one',\n",
       " 'month',\n",
       " '!',\n",
       " 'i',\n",
       " 'take',\n",
       " '3',\n",
       " 'packs',\n",
       " 'in',\n",
       " 'a',\n",
       " 'row',\n",
       " ',',\n",
       " 'with',\n",
       " 'no',\n",
       " 'periods',\n",
       " ',',\n",
       " 'then',\n",
       " 'i',\n",
       " 'take',\n",
       " 'the',\n",
       " 'place',\n",
       " '##bo',\n",
       " 'pills',\n",
       " 'for',\n",
       " 'a',\n",
       " 'week',\n",
       " 'before',\n",
       " 'taking',\n",
       " '3',\n",
       " 'months',\n",
       " 'in',\n",
       " 'a',\n",
       " 'row',\n",
       " 'again',\n",
       " '.',\n",
       " 'this',\n",
       " 'pill',\n",
       " 'was',\n",
       " 'a',\n",
       " 'life',\n",
       " '##sa',\n",
       " '##ver',\n",
       " '-',\n",
       " 'i',\n",
       " 'was',\n",
       " 'very',\n",
       " 'an',\n",
       " '##emi',\n",
       " '##c',\n",
       " 'before',\n",
       " ',',\n",
       " 'and',\n",
       " 'this',\n",
       " 'has',\n",
       " 'helped',\n",
       " 'that',\n",
       " 'as',\n",
       " 'well',\n",
       " '.',\n",
       " 'unfortunately',\n",
       " ',',\n",
       " 'i',\n",
       " 'gained',\n",
       " 'about',\n",
       " '10',\n",
       " '##lb',\n",
       " '##s',\n",
       " 'with',\n",
       " 'this',\n",
       " 'pill',\n",
       " ',',\n",
       " 'but',\n",
       " 'overall',\n",
       " ',',\n",
       " 'it',\n",
       " 'it',\n",
       " 'worth',\n",
       " 'it',\n",
       " '.']"
      ]
     },
     "execution_count": 28,
     "metadata": {},
     "output_type": "execute_result"
    }
   ],
   "source": [
    "tokens = transformer_tokenizer.tokenize(df[input_text].iloc[0])\n",
    "print(tokens)\n",
    "ids = transformer_tokenizer.convert_tokens_to_ids(tokens)\n",
    "print(ids)\n",
    "transformer_tokenizer.convert_ids_to_tokens(ids)"
   ]
  },
  {
   "cell_type": "code",
   "execution_count": 29,
   "metadata": {},
   "outputs": [
    {
     "data": {
      "text/html": [],
      "text/plain": [
       "<IPython.core.display.HTML object>"
      ]
     },
     "metadata": {},
     "output_type": "display_data"
    },
    {
     "data": {
      "text/html": [],
      "text/plain": [
       "<IPython.core.display.HTML object>"
      ]
     },
     "metadata": {},
     "output_type": "display_data"
    },
    {
     "data": {
      "text/html": [],
      "text/plain": [
       "<IPython.core.display.HTML object>"
      ]
     },
     "metadata": {},
     "output_type": "display_data"
    }
   ],
   "source": [
    "databunch = (TextList.from_df(df_train, cols=input_text, processor=transformer_processor)\n",
    "             .split_by_rand_pct(0.1)\n",
    "             .label_from_df(cols=output_label)\n",
    "             .add_test(df_test)\n",
    "             .databunch(bs=bs, pad_first=pad_first, pad_idx=pad_idx, num_workers=0))"
   ]
  },
  {
   "cell_type": "code",
   "execution_count": 30,
   "metadata": {},
   "outputs": [
    {
     "name": "stdout",
     "output_type": "stream",
     "text": [
      "[CLS] token : [CLS]\n",
      "[SEP] token : [SEP]\n",
      "[PAD] token : [PAD]\n"
     ]
    },
    {
     "data": {
      "text/html": [
       "<table border=\"1\" class=\"dataframe\">\n",
       "  <thead>\n",
       "    <tr style=\"text-align: right;\">\n",
       "      <th>text</th>\n",
       "      <th>target</th>\n",
       "    </tr>\n",
       "  </thead>\n",
       "  <tbody>\n",
       "    <tr>\n",
       "      <td>[CLS] il y a di ##x an ##s je me sui ##s fai ##t pre ##sc ##ri ##re 100 mg d ` ox ##y ##con ##tin ##par jo ##ur en com ##pr ##ime de 10 mg plus 80 mg de rita ##lin , comb ##ina ##ison ideal ##e . quan ##d j ` ava ##lais me ##s ox ##y ##con ##tin ##s j ` ava ##is mal au coe ##ur</td>\n",
       "      <td>5</td>\n",
       "    </tr>\n",
       "    <tr>\n",
       "      <td>[CLS] i have been suffering from chronic ur ##tica ##ria , ang ##io ##de ##ma , joint pain and swelling since february 2010 . am seeing a r ##he ##uma ##to ##logist ( on top of my gp , all ##er ##gist , and soon - to - see der ##mat ##ologist ) . my r ##he ##um ##y prescribed do ##x ##ep ##in ( 30 mg ##s at night</td>\n",
       "      <td>2</td>\n",
       "    </tr>\n",
       "    <tr>\n",
       "      <td>[CLS] had been on well ##bu ##tri ##n xl 300 ##mg &amp; sr 150 ##mg for y ##rs . was feeling more depressed . dr put me on for ##fi ##vo xl 2 mt ##hs or so . all i want to do is sleep . my dreams at night are so real , my husband says i talk then say who i ' m talking to , i respond</td>\n",
       "      <td>2</td>\n",
       "    </tr>\n",
       "    <tr>\n",
       "      <td>[CLS] i have been taking vitamin z for a year and a half , and it ' s been a real life save ##r . for 10 years i tried to treat my depression in natural ways ( working out , st . johns , ac ##up ##un ##cture , praying , being healthy , etc ! ) , with the haze sometimes lifting for a bit but mostly not</td>\n",
       "      <td>4</td>\n",
       "    </tr>\n",
       "    <tr>\n",
       "      <td>[CLS] followed instructions from doctor before drinking this . began at 6 ##pm . the taste wasn ' t really bad for me - i love lemon . after drinking the first 16 oz . i developed a slight headache . i continued with the first round of mo ##vi ##pre ##p then drank 16 oz . of grape juice . shortly after , my vision was blur ##ry .</td>\n",
       "      <td>1</td>\n",
       "    </tr>\n",
       "  </tbody>\n",
       "</table>"
      ],
      "text/plain": [
       "<IPython.core.display.HTML object>"
      ]
     },
     "metadata": {},
     "output_type": "display_data"
    }
   ],
   "source": [
    "# explanation of cls, sep, pad\n",
    "print('[CLS] token :', transformer_tokenizer.cls_token)\n",
    "print('[SEP] token :', transformer_tokenizer.sep_token)\n",
    "print('[PAD] token :', transformer_tokenizer.pad_token)\n",
    "databunch.show_batch()"
   ]
  },
  {
   "cell_type": "code",
   "execution_count": 31,
   "metadata": {},
   "outputs": [
    {
     "name": "stdout",
     "output_type": "stream",
     "text": [
      "[CLS] id : 101\n",
      "[SEP] id : 102\n",
      "[PAD] id : 0\n",
      "Batch shape :  torch.Size([12, 360])\n",
      "tensor([[  101,  6335,  1061,  ...,  2552, 10128,   102],\n",
      "        [  101,  1045,  2031,  ...,     0,     0,     0],\n",
      "        [  101,  1045,  1005,  ...,     0,     0,     0],\n",
      "        ...,\n",
      "        [  101,  1045,  1005,  ...,     0,     0,     0],\n",
      "        [  101,  2026,  2466,  ...,     0,     0,     0],\n",
      "        [  101,  2065,  2115,  ...,     0,     0,     0]])\n"
     ]
    }
   ],
   "source": [
    "print('[CLS] id :', transformer_tokenizer.cls_token_id)\n",
    "print('[SEP] id :', transformer_tokenizer.sep_token_id)\n",
    "print('[PAD] id :', pad_idx)\n",
    "test_one_batch = databunch.one_batch()[0]\n",
    "print('Batch shape : ',test_one_batch.shape)\n",
    "print(test_one_batch)"
   ]
  },
  {
   "cell_type": "code",
   "execution_count": 32,
   "metadata": {},
   "outputs": [],
   "source": [
    "# explain the work flow\n",
    "\n",
    "# defining our model architecture \n",
    "class CustomTransformerModel(nn.Module):\n",
    "    def __init__(self, transformer_model: PreTrainedModel):\n",
    "        super(CustomTransformerModel,self).__init__()\n",
    "        self.transformer = transformer_model\n",
    "        \n",
    "    def forward(self, input_ids, attention_mask=None):\n",
    "        \n",
    "        # attention_mask\n",
    "        # Mask to avoid performing attention on padding token indices.\n",
    "        # Mask values selected in ``[0, 1]``:\n",
    "        # ``1`` for tokens that are NOT MASKED, ``0`` for MASKED tokens.\n",
    "        attention_mask = (input_ids!=pad_idx).type(input_ids.type()) \n",
    "        \n",
    "        logits = self.transformer(input_ids,\n",
    "                                  attention_mask = attention_mask)[0]   \n",
    "        return logits"
   ]
  },
  {
   "cell_type": "code",
   "execution_count": 33,
   "metadata": {},
   "outputs": [
    {
     "name": "stdout",
     "output_type": "stream",
     "text": [
      "DistilBertConfig {\n",
      "  \"_num_labels\": 5,\n",
      "  \"activation\": \"gelu\",\n",
      "  \"architectures\": [\n",
      "    \"DistilBertForMaskedLM\"\n",
      "  ],\n",
      "  \"attention_dropout\": 0.1,\n",
      "  \"bad_words_ids\": null,\n",
      "  \"bos_token_id\": null,\n",
      "  \"decoder_start_token_id\": null,\n",
      "  \"dim\": 768,\n",
      "  \"do_sample\": false,\n",
      "  \"dropout\": 0.1,\n",
      "  \"early_stopping\": false,\n",
      "  \"eos_token_id\": null,\n",
      "  \"finetuning_task\": null,\n",
      "  \"hidden_dim\": 3072,\n",
      "  \"id2label\": {\n",
      "    \"0\": \"LABEL_0\",\n",
      "    \"1\": \"LABEL_1\",\n",
      "    \"2\": \"LABEL_2\",\n",
      "    \"3\": \"LABEL_3\",\n",
      "    \"4\": \"LABEL_4\"\n",
      "  },\n",
      "  \"initializer_range\": 0.02,\n",
      "  \"is_decoder\": false,\n",
      "  \"is_encoder_decoder\": false,\n",
      "  \"label2id\": {\n",
      "    \"LABEL_0\": 0,\n",
      "    \"LABEL_1\": 1,\n",
      "    \"LABEL_2\": 2,\n",
      "    \"LABEL_3\": 3,\n",
      "    \"LABEL_4\": 4\n",
      "  },\n",
      "  \"length_penalty\": 1.0,\n",
      "  \"max_length\": 20,\n",
      "  \"max_position_embeddings\": 512,\n",
      "  \"min_length\": 0,\n",
      "  \"model_type\": \"distilbert\",\n",
      "  \"n_heads\": 12,\n",
      "  \"n_layers\": 6,\n",
      "  \"no_repeat_ngram_size\": 0,\n",
      "  \"num_beams\": 1,\n",
      "  \"num_return_sequences\": 1,\n",
      "  \"output_attentions\": false,\n",
      "  \"output_hidden_states\": false,\n",
      "  \"output_past\": true,\n",
      "  \"pad_token_id\": 0,\n",
      "  \"prefix\": null,\n",
      "  \"pruned_heads\": {},\n",
      "  \"qa_dropout\": 0.1,\n",
      "  \"repetition_penalty\": 1.0,\n",
      "  \"seq_classif_dropout\": 0.2,\n",
      "  \"sinusoidal_pos_embds\": false,\n",
      "  \"task_specific_params\": null,\n",
      "  \"temperature\": 1.0,\n",
      "  \"tie_weights_\": true,\n",
      "  \"top_k\": 50,\n",
      "  \"top_p\": 1.0,\n",
      "  \"torchscript\": false,\n",
      "  \"use_bfloat16\": false,\n",
      "  \"vocab_size\": 30522\n",
      "}\n",
      "\n"
     ]
    }
   ],
   "source": [
    "config = config_class.from_pretrained(pretrained_model_name)\n",
    "config.num_labels = num_labels\n",
    "config.use_bfloat16 = use_fp16\n",
    "print(config)"
   ]
  },
  {
   "cell_type": "code",
   "execution_count": 34,
   "metadata": {},
   "outputs": [],
   "source": [
    "transformer_model = model_class.from_pretrained(pretrained_model_name, config = config)\n",
    "custom_transformer_model = CustomTransformerModel(transformer_model = transformer_model)"
   ]
  },
  {
   "cell_type": "code",
   "execution_count": 35,
   "metadata": {},
   "outputs": [],
   "source": [
    "CustomAdamW = partial(AdamW, correct_bias=False)\n",
    "\n",
    "learner = Learner(databunch, \n",
    "                  custom_transformer_model, \n",
    "                  opt_func = CustomAdamW, \n",
    "                  metrics=[accuracy],\n",
    "                  callback_fns=[partial(EarlyStoppingCallback), partial(CSVLogger)])\n",
    "\n",
    "# Show graph of learner stats and metrics after each epoch.\n",
    "learner.callbacks.append(ShowGraph(learner))\n",
    "\n",
    "# Put learn in FP16 precision mode.\n",
    "if use_fp16: learner = learner.to_fp16()"
   ]
  },
  {
   "cell_type": "code",
   "execution_count": 36,
   "metadata": {},
   "outputs": [
    {
     "name": "stdout",
     "output_type": "stream",
     "text": [
      "Learner split in 2 groups\n",
      "[Sequential(\n",
      "  (0): Embedding(30522, 768, padding_idx=0)\n",
      "  (1): Embedding(512, 768)\n",
      "  (2): LayerNorm((768,), eps=1e-12, elementwise_affine=True)\n",
      "  (3): Dropout(p=0.1, inplace=False)\n",
      "  (4): Dropout(p=0.1, inplace=False)\n",
      "  (5): Linear(in_features=768, out_features=768, bias=True)\n",
      "  (6): Linear(in_features=768, out_features=768, bias=True)\n",
      "  (7): Linear(in_features=768, out_features=768, bias=True)\n",
      "  (8): Linear(in_features=768, out_features=768, bias=True)\n",
      "  (9): LayerNorm((768,), eps=1e-12, elementwise_affine=True)\n",
      "  (10): Dropout(p=0.1, inplace=False)\n",
      "  (11): Linear(in_features=768, out_features=3072, bias=True)\n",
      "  (12): Linear(in_features=3072, out_features=768, bias=True)\n",
      "  (13): LayerNorm((768,), eps=1e-12, elementwise_affine=True)\n",
      "  (14): Dropout(p=0.1, inplace=False)\n",
      "  (15): Linear(in_features=768, out_features=768, bias=True)\n",
      "  (16): Linear(in_features=768, out_features=768, bias=True)\n",
      "  (17): Linear(in_features=768, out_features=768, bias=True)\n",
      "  (18): Linear(in_features=768, out_features=768, bias=True)\n",
      "  (19): LayerNorm((768,), eps=1e-12, elementwise_affine=True)\n",
      "  (20): Dropout(p=0.1, inplace=False)\n",
      "  (21): Linear(in_features=768, out_features=3072, bias=True)\n",
      "  (22): Linear(in_features=3072, out_features=768, bias=True)\n",
      "  (23): LayerNorm((768,), eps=1e-12, elementwise_affine=True)\n",
      "  (24): Dropout(p=0.1, inplace=False)\n",
      "  (25): Linear(in_features=768, out_features=768, bias=True)\n",
      "  (26): Linear(in_features=768, out_features=768, bias=True)\n",
      "  (27): Linear(in_features=768, out_features=768, bias=True)\n",
      "  (28): Linear(in_features=768, out_features=768, bias=True)\n",
      "  (29): LayerNorm((768,), eps=1e-12, elementwise_affine=True)\n",
      "  (30): Dropout(p=0.1, inplace=False)\n",
      "  (31): Linear(in_features=768, out_features=3072, bias=True)\n",
      "  (32): Linear(in_features=3072, out_features=768, bias=True)\n",
      "  (33): LayerNorm((768,), eps=1e-12, elementwise_affine=True)\n",
      "  (34): Dropout(p=0.1, inplace=False)\n",
      "  (35): Linear(in_features=768, out_features=768, bias=True)\n",
      "  (36): Linear(in_features=768, out_features=768, bias=True)\n",
      "  (37): Linear(in_features=768, out_features=768, bias=True)\n",
      "  (38): Linear(in_features=768, out_features=768, bias=True)\n",
      "  (39): LayerNorm((768,), eps=1e-12, elementwise_affine=True)\n",
      "  (40): Dropout(p=0.1, inplace=False)\n",
      "  (41): Linear(in_features=768, out_features=3072, bias=True)\n",
      "  (42): Linear(in_features=3072, out_features=768, bias=True)\n",
      "  (43): LayerNorm((768,), eps=1e-12, elementwise_affine=True)\n",
      "  (44): Dropout(p=0.1, inplace=False)\n",
      "  (45): Linear(in_features=768, out_features=768, bias=True)\n",
      "  (46): Linear(in_features=768, out_features=768, bias=True)\n",
      "  (47): Linear(in_features=768, out_features=768, bias=True)\n",
      "  (48): Linear(in_features=768, out_features=768, bias=True)\n",
      "  (49): LayerNorm((768,), eps=1e-12, elementwise_affine=True)\n",
      "  (50): Dropout(p=0.1, inplace=False)\n",
      "  (51): Linear(in_features=768, out_features=3072, bias=True)\n",
      "  (52): Linear(in_features=3072, out_features=768, bias=True)\n",
      "  (53): LayerNorm((768,), eps=1e-12, elementwise_affine=True)\n",
      "  (54): Dropout(p=0.1, inplace=False)\n",
      "  (55): Linear(in_features=768, out_features=768, bias=True)\n",
      "  (56): Linear(in_features=768, out_features=768, bias=True)\n",
      "  (57): Linear(in_features=768, out_features=768, bias=True)\n",
      "  (58): Linear(in_features=768, out_features=768, bias=True)\n",
      "  (59): LayerNorm((768,), eps=1e-12, elementwise_affine=True)\n",
      "  (60): Dropout(p=0.1, inplace=False)\n",
      "  (61): Linear(in_features=768, out_features=3072, bias=True)\n",
      "  (62): Linear(in_features=3072, out_features=768, bias=True)\n",
      "  (63): LayerNorm((768,), eps=1e-12, elementwise_affine=True)\n",
      "), Sequential(\n",
      "  (0): Linear(in_features=768, out_features=768, bias=True)\n",
      "  (1): Linear(in_features=768, out_features=5, bias=True)\n",
      "  (2): Dropout(p=0.2, inplace=False)\n",
      ")]\n"
     ]
    }
   ],
   "source": [
    "# For DistilBERT\n",
    "list_layers = [learner.model.transformer.distilbert.embeddings,\n",
    "               learner.model.transformer.pre_classifier]\n",
    "\n",
    "learner.split(list_layers)\n",
    "num_groups = len(learner.layer_groups)\n",
    "print('Learner split in',num_groups,'groups')\n",
    "print(learner.layer_groups)"
   ]
  },
  {
   "cell_type": "code",
   "execution_count": 37,
   "metadata": {},
   "outputs": [],
   "source": [
    "learner.save('untrain')"
   ]
  },
  {
   "cell_type": "code",
   "execution_count": 38,
   "metadata": {},
   "outputs": [
    {
     "data": {
      "text/plain": [
       "CustomTransformerModel\n",
       "======================================================================\n",
       "Layer (type)         Output Shape         Param #    Trainable \n",
       "======================================================================\n",
       "Embedding            [360, 768]           23,440,896 False     \n",
       "______________________________________________________________________\n",
       "Embedding            [360, 768]           393,216    False     \n",
       "______________________________________________________________________\n",
       "LayerNorm            [360, 768]           1,536      False     \n",
       "______________________________________________________________________\n",
       "Dropout              [360, 768]           0          False     \n",
       "______________________________________________________________________\n",
       "Dropout              [12, 360, 360]       0          False     \n",
       "______________________________________________________________________\n",
       "Linear               [360, 768]           590,592    False     \n",
       "______________________________________________________________________\n",
       "Linear               [360, 768]           590,592    False     \n",
       "______________________________________________________________________\n",
       "Linear               [360, 768]           590,592    False     \n",
       "______________________________________________________________________\n",
       "Linear               [360, 768]           590,592    False     \n",
       "______________________________________________________________________\n",
       "LayerNorm            [360, 768]           1,536      False     \n",
       "______________________________________________________________________\n",
       "Dropout              [360, 768]           0          False     \n",
       "______________________________________________________________________\n",
       "Linear               [360, 3072]          2,362,368  False     \n",
       "______________________________________________________________________\n",
       "Linear               [360, 768]           2,360,064  False     \n",
       "______________________________________________________________________\n",
       "LayerNorm            [360, 768]           1,536      False     \n",
       "______________________________________________________________________\n",
       "Dropout              [12, 360, 360]       0          False     \n",
       "______________________________________________________________________\n",
       "Linear               [360, 768]           590,592    False     \n",
       "______________________________________________________________________\n",
       "Linear               [360, 768]           590,592    False     \n",
       "______________________________________________________________________\n",
       "Linear               [360, 768]           590,592    False     \n",
       "______________________________________________________________________\n",
       "Linear               [360, 768]           590,592    False     \n",
       "______________________________________________________________________\n",
       "LayerNorm            [360, 768]           1,536      False     \n",
       "______________________________________________________________________\n",
       "Dropout              [360, 768]           0          False     \n",
       "______________________________________________________________________\n",
       "Linear               [360, 3072]          2,362,368  False     \n",
       "______________________________________________________________________\n",
       "Linear               [360, 768]           2,360,064  False     \n",
       "______________________________________________________________________\n",
       "LayerNorm            [360, 768]           1,536      False     \n",
       "______________________________________________________________________\n",
       "Dropout              [12, 360, 360]       0          False     \n",
       "______________________________________________________________________\n",
       "Linear               [360, 768]           590,592    False     \n",
       "______________________________________________________________________\n",
       "Linear               [360, 768]           590,592    False     \n",
       "______________________________________________________________________\n",
       "Linear               [360, 768]           590,592    False     \n",
       "______________________________________________________________________\n",
       "Linear               [360, 768]           590,592    False     \n",
       "______________________________________________________________________\n",
       "LayerNorm            [360, 768]           1,536      False     \n",
       "______________________________________________________________________\n",
       "Dropout              [360, 768]           0          False     \n",
       "______________________________________________________________________\n",
       "Linear               [360, 3072]          2,362,368  False     \n",
       "______________________________________________________________________\n",
       "Linear               [360, 768]           2,360,064  False     \n",
       "______________________________________________________________________\n",
       "LayerNorm            [360, 768]           1,536      False     \n",
       "______________________________________________________________________\n",
       "Dropout              [12, 360, 360]       0          False     \n",
       "______________________________________________________________________\n",
       "Linear               [360, 768]           590,592    False     \n",
       "______________________________________________________________________\n",
       "Linear               [360, 768]           590,592    False     \n",
       "______________________________________________________________________\n",
       "Linear               [360, 768]           590,592    False     \n",
       "______________________________________________________________________\n",
       "Linear               [360, 768]           590,592    False     \n",
       "______________________________________________________________________\n",
       "LayerNorm            [360, 768]           1,536      False     \n",
       "______________________________________________________________________\n",
       "Dropout              [360, 768]           0          False     \n",
       "______________________________________________________________________\n",
       "Linear               [360, 3072]          2,362,368  False     \n",
       "______________________________________________________________________\n",
       "Linear               [360, 768]           2,360,064  False     \n",
       "______________________________________________________________________\n",
       "LayerNorm            [360, 768]           1,536      False     \n",
       "______________________________________________________________________\n",
       "Dropout              [12, 360, 360]       0          False     \n",
       "______________________________________________________________________\n",
       "Linear               [360, 768]           590,592    False     \n",
       "______________________________________________________________________\n",
       "Linear               [360, 768]           590,592    False     \n",
       "______________________________________________________________________\n",
       "Linear               [360, 768]           590,592    False     \n",
       "______________________________________________________________________\n",
       "Linear               [360, 768]           590,592    False     \n",
       "______________________________________________________________________\n",
       "LayerNorm            [360, 768]           1,536      False     \n",
       "______________________________________________________________________\n",
       "Dropout              [360, 768]           0          False     \n",
       "______________________________________________________________________\n",
       "Linear               [360, 3072]          2,362,368  False     \n",
       "______________________________________________________________________\n",
       "Linear               [360, 768]           2,360,064  False     \n",
       "______________________________________________________________________\n",
       "LayerNorm            [360, 768]           1,536      False     \n",
       "______________________________________________________________________\n",
       "Dropout              [12, 360, 360]       0          False     \n",
       "______________________________________________________________________\n",
       "Linear               [360, 768]           590,592    False     \n",
       "______________________________________________________________________\n",
       "Linear               [360, 768]           590,592    False     \n",
       "______________________________________________________________________\n",
       "Linear               [360, 768]           590,592    False     \n",
       "______________________________________________________________________\n",
       "Linear               [360, 768]           590,592    False     \n",
       "______________________________________________________________________\n",
       "LayerNorm            [360, 768]           1,536      False     \n",
       "______________________________________________________________________\n",
       "Dropout              [360, 768]           0          False     \n",
       "______________________________________________________________________\n",
       "Linear               [360, 3072]          2,362,368  False     \n",
       "______________________________________________________________________\n",
       "Linear               [360, 768]           2,360,064  False     \n",
       "______________________________________________________________________\n",
       "LayerNorm            [360, 768]           1,536      False     \n",
       "______________________________________________________________________\n",
       "Linear               [768]                590,592    True      \n",
       "______________________________________________________________________\n",
       "Linear               [5]                  3,845      True      \n",
       "______________________________________________________________________\n",
       "Dropout              [768]                0          False     \n",
       "______________________________________________________________________\n",
       "\n",
       "Total params: 66,957,317\n",
       "Total trainable params: 594,437\n",
       "Total non-trainable params: 66,362,880\n",
       "Optimized with 'transformers.optimization.AdamW', correct_bias=False\n",
       "Using true weight decay as discussed in https://www.fast.ai/2018/07/02/adam-weight-decay/ \n",
       "Loss function : FlattenedLoss\n",
       "======================================================================\n",
       "Callbacks functions applied \n",
       "    ShowGraph"
      ]
     },
     "execution_count": 38,
     "metadata": {},
     "output_type": "execute_result"
    }
   ],
   "source": [
    "learner.load('untrain')\n",
    "learner.freeze_to(-1)\n",
    "learner.summary()"
   ]
  },
  {
   "cell_type": "code",
   "execution_count": 39,
   "metadata": {},
   "outputs": [
    {
     "data": {
      "text/html": [
       "\n",
       "    <div>\n",
       "        <style>\n",
       "            /* Turns off some styling */\n",
       "            progress {\n",
       "                /* gets rid of default border in Firefox and Opera. */\n",
       "                border: none;\n",
       "                /* Needs to be in here for Safari polyfill so background images work as expected. */\n",
       "                background-size: auto;\n",
       "            }\n",
       "            .progress-bar-interrupted, .progress-bar-interrupted::-webkit-progress-bar {\n",
       "                background: #F44336;\n",
       "            }\n",
       "        </style>\n",
       "      <progress value='0' class='' max='1', style='width:300px; height:20px; vertical-align: middle;'></progress>\n",
       "      0.00% [0/1 00:00<00:00]\n",
       "    </div>\n",
       "    \n",
       "<table border=\"1\" class=\"dataframe\">\n",
       "  <thead>\n",
       "    <tr style=\"text-align: left;\">\n",
       "      <th>epoch</th>\n",
       "      <th>train_loss</th>\n",
       "      <th>valid_loss</th>\n",
       "      <th>accuracy</th>\n",
       "      <th>time</th>\n",
       "    </tr>\n",
       "  </thead>\n",
       "  <tbody>\n",
       "  </tbody>\n",
       "</table><p>\n",
       "\n",
       "    <div>\n",
       "        <style>\n",
       "            /* Turns off some styling */\n",
       "            progress {\n",
       "                /* gets rid of default border in Firefox and Opera. */\n",
       "                border: none;\n",
       "                /* Needs to be in here for Safari polyfill so background images work as expected. */\n",
       "                background-size: auto;\n",
       "            }\n",
       "            .progress-bar-interrupted, .progress-bar-interrupted::-webkit-progress-bar {\n",
       "                background: #F44336;\n",
       "            }\n",
       "        </style>\n",
       "      <progress value='83' class='' max='9569', style='width:300px; height:20px; vertical-align: middle;'></progress>\n",
       "      0.87% [83/9569 00:09<18:56 2.3673]\n",
       "    </div>\n",
       "    "
      ],
      "text/plain": [
       "<IPython.core.display.HTML object>"
      ]
     },
     "metadata": {},
     "output_type": "display_data"
    },
    {
     "name": "stdout",
     "output_type": "stream",
     "text": [
      "LR Finder is complete, type {learner_name}.recorder.plot() to see the graph.\n"
     ]
    }
   ],
   "source": [
    "learner.lr_find()"
   ]
  },
  {
   "cell_type": "code",
   "execution_count": 40,
   "metadata": {},
   "outputs": [
    {
     "name": "stdout",
     "output_type": "stream",
     "text": [
      "Min numerical gradient: 1.74E-01\n",
      "Min loss divided by 10: 1.91E-05\n"
     ]
    },
    {
     "data": {
      "image/png": "[encoded data removed]",
      "text/plain": [
       "<Figure size 432x288 with 1 Axes>"
      ]
     },
     "metadata": {
      "needs_background": "light"
     },
     "output_type": "display_data"
    }
   ],
   "source": [
    "#explain the graph\n",
    "\n",
    "learner.recorder.plot(suggestion=True)"
   ]
  },
  {
   "cell_type": "code",
   "execution_count": 41,
   "metadata": {},
   "outputs": [],
   "source": [
    "lr = 1e-05"
   ]
  },
  {
   "cell_type": "code",
   "execution_count": 42,
   "metadata": {},
   "outputs": [
    {
     "data": {
      "text/html": [
       "<table border=\"1\" class=\"dataframe\">\n",
       "  <thead>\n",
       "    <tr style=\"text-align: left;\">\n",
       "      <th>epoch</th>\n",
       "      <th>train_loss</th>\n",
       "      <th>valid_loss</th>\n",
       "      <th>accuracy</th>\n",
       "      <th>time</th>\n",
       "    </tr>\n",
       "  </thead>\n",
       "  <tbody>\n",
       "    <tr>\n",
       "      <td>0</td>\n",
       "      <td>1.490338</td>\n",
       "      <td>1.483205</td>\n",
       "      <td>0.368916</td>\n",
       "      <td>05:21</td>\n",
       "    </tr>\n",
       "  </tbody>\n",
       "</table>"
      ],
      "text/plain": [
       "<IPython.core.display.HTML object>"
      ]
     },
     "metadata": {},
     "output_type": "display_data"
    },
    {
     "data": {
      "image/png": "[encoded data removed]",
      "text/plain": [
       "<Figure size 432x288 with 1 Axes>"
      ]
     },
     "metadata": {},
     "output_type": "display_data"
    }
   ],
   "source": [
    "#explain the graph\n",
    "\n",
    "learner.fit_one_cycle(1,max_lr=lr)"
   ]
  },
  {
   "cell_type": "code",
   "execution_count": 43,
   "metadata": {},
   "outputs": [],
   "source": [
    "learner.save('first-cycle')"
   ]
  },
  {
   "cell_type": "code",
   "execution_count": 44,
   "metadata": {},
   "outputs": [
    {
     "data": {
      "text/html": [
       "\n",
       "    <div>\n",
       "        <style>\n",
       "            /* Turns off some styling */\n",
       "            progress {\n",
       "                /* gets rid of default border in Firefox and Opera. */\n",
       "                border: none;\n",
       "                /* Needs to be in here for Safari polyfill so background images work as expected. */\n",
       "                background-size: auto;\n",
       "            }\n",
       "            .progress-bar-interrupted, .progress-bar-interrupted::-webkit-progress-bar {\n",
       "                background: #F44336;\n",
       "            }\n",
       "        </style>\n",
       "      <progress value='3' class='' max='5', style='width:300px; height:20px; vertical-align: middle;'></progress>\n",
       "      60.00% [3/5 57:06<38:04]\n",
       "    </div>\n",
       "    \n",
       "<table border=\"1\" class=\"dataframe\">\n",
       "  <thead>\n",
       "    <tr style=\"text-align: left;\">\n",
       "      <th>epoch</th>\n",
       "      <th>train_loss</th>\n",
       "      <th>valid_loss</th>\n",
       "      <th>accuracy</th>\n",
       "      <th>time</th>\n",
       "    </tr>\n",
       "  </thead>\n",
       "  <tbody>\n",
       "    <tr>\n",
       "      <td>0</td>\n",
       "      <td>1.207338</td>\n",
       "      <td>1.148669</td>\n",
       "      <td>0.492358</td>\n",
       "      <td>19:43</td>\n",
       "    </tr>\n",
       "    <tr>\n",
       "      <td>1</td>\n",
       "      <td>1.096432</td>\n",
       "      <td>1.100335</td>\n",
       "      <td>0.517752</td>\n",
       "      <td>17:39</td>\n",
       "    </tr>\n",
       "    <tr>\n",
       "      <td>2</td>\n",
       "      <td>1.036475</td>\n",
       "      <td>1.065217</td>\n",
       "      <td>0.539933</td>\n",
       "      <td>19:42</td>\n",
       "    </tr>\n",
       "  </tbody>\n",
       "</table><p>\n",
       "\n",
       "    <div>\n",
       "        <style>\n",
       "            /* Turns off some styling */\n",
       "            progress {\n",
       "                /* gets rid of default border in Firefox and Opera. */\n",
       "                border: none;\n",
       "                /* Needs to be in here for Safari polyfill so background images work as expected. */\n",
       "                background-size: auto;\n",
       "            }\n",
       "            .progress-bar-interrupted, .progress-bar-interrupted::-webkit-progress-bar {\n",
       "                background: #F44336;\n",
       "            }\n",
       "        </style>\n",
       "      <progress value='1064' class='' max='1064', style='width:300px; height:20px; vertical-align: middle;'></progress>\n",
       "      100.00% [1064/1064 00:25<00:00]\n",
       "    </div>\n",
       "    "
      ],
      "text/plain": [
       "<IPython.core.display.HTML object>"
      ]
     },
     "metadata": {},
     "output_type": "display_data"
    },
    {
     "data": {
      "image/png": "[encoded data removed]",
      "text/plain": [
       "<Figure size 432x288 with 1 Axes>"
      ]
     },
     "metadata": {},
     "output_type": "display_data"
    },
    {
     "name": "stdout",
     "output_type": "stream",
     "text": [
      "Epoch 3: early stopping\n"
     ]
    },
    {
     "data": {
      "image/png": "[encoded data removed]",
      "text/plain": [
       "<Figure size 432x288 with 1 Axes>"
      ]
     },
     "metadata": {
      "needs_background": "light"
     },
     "output_type": "display_data"
    }
   ],
   "source": [
    "#explain the graph\n",
    "\n",
    "learner.load('first-cycle')\n",
    "learner.unfreeze()\n",
    "learner.fit_one_cycle(5,max_lr=lr)"
   ]
  },
  {
   "cell_type": "code",
   "execution_count": 45,
   "metadata": {},
   "outputs": [
    {
     "data": {
      "text/html": [],
      "text/plain": [
       "<IPython.core.display.HTML object>"
      ]
     },
     "metadata": {},
     "output_type": "display_data"
    },
    {
     "data": {
      "text/html": [],
      "text/plain": [
       "<IPython.core.display.HTML object>"
      ]
     },
     "metadata": {},
     "output_type": "display_data"
    }
   ],
   "source": [
    "learner.export('drug_review'+'_'+input_text+str(max_length)+'_'+str(lr)+'.pkl')\n",
    "export_learner = load_learner('.', 'drug_review'+'_'+input_text+str(max_length)+'_'+str(lr)+'.pkl')"
   ]
  },
  {
   "cell_type": "code",
   "execution_count": 46,
   "metadata": {},
   "outputs": [
    {
     "name": "stdout",
     "output_type": "stream",
     "text": [
      "(Category 5, tensor(4), tensor([0.0279, 0.0442, 0.2059, 0.2390, 0.4830])) \n",
      " (Category 4, tensor(3), tensor([0.0129, 0.0661, 0.3312, 0.3862, 0.2036])) \n",
      " (Category 3, tensor(2), tensor([0.0507, 0.2175, 0.4407, 0.2097, 0.0814])) \n",
      " (Category 1, tensor(0), tensor([0.5497, 0.2431, 0.1550, 0.0305, 0.0216]))\n"
     ]
    },
    {
     "name": "stderr",
     "output_type": "stream",
     "text": [
      "C:\\Users\\benla\\anaconda3\\lib\\site-packages\\fastai\\torch_core.py:83: UserWarning: Tensor is int32: upgrading to int64; for better performance use int64 input\n",
      "  warn('Tensor is int32: upgrading to int64; for better performance use int64 input')\n"
     ]
    }
   ],
   "source": [
    "# sample of prediction\n",
    "print(export_learner.predict('This is best.'),'\\n',\n",
    "    export_learner.predict('This is good.'),'\\n',\n",
    "    export_learner.predict('This is okay.'),'\\n',\n",
    "    export_learner.predict('This is bad.'))"
   ]
  },
  {
   "cell_type": "code",
   "execution_count": 47,
   "metadata": {},
   "outputs": [],
   "source": [
    "def get_preds_as_nparray(ds_type) -> np.ndarray:\n",
    "    \"\"\"\n",
    "    the get_preds method does not yield the elements in order by default\n",
    "    we borrow the code from the RNNLearner to resort the elements into their correct order\n",
    "    \"\"\"\n",
    "    preds = learner.get_preds(ds_type)[0].detach().cpu().numpy()\n",
    "    sampler = [i for i in databunch.dl(ds_type).sampler]\n",
    "    reverse_sampler = np.argsort(sampler)\n",
    "    return preds[reverse_sampler, :]"
   ]
  },
  {
   "cell_type": "code",
   "execution_count": 48,
   "metadata": {},
   "outputs": [
    {
     "data": {
      "text/html": [],
      "text/plain": [
       "<IPython.core.display.HTML object>"
      ]
     },
     "metadata": {},
     "output_type": "display_data"
    }
   ],
   "source": [
    "test_preds = get_preds_as_nparray(DatasetType.Test)"
   ]
  },
  {
   "cell_type": "code",
   "execution_count": 49,
   "metadata": {},
   "outputs": [],
   "source": [
    "y_true = pd.to_numeric(df_test[output_label]) \n",
    "y_pred = np.argmax(test_preds,axis=1) +1"
   ]
  },
  {
   "cell_type": "code",
   "execution_count": 50,
   "metadata": {},
   "outputs": [
    {
     "name": "stdout",
     "output_type": "stream",
     "text": [
      "0.47822709613114256\n",
      "0.47094089434334885\n",
      "[0.623638 0.443911 0.419809 0.44823  0.455547]\n"
     ]
    }
   ],
   "source": [
    "# what is f1 score\n",
    "# Calculate f1 score\n",
    "print(f1_score(y_true, y_pred, average='macro'))\n",
    "print(f1_score(y_true, y_pred, average='micro'))\n",
    "print(f1_score(y_true, y_pred, average=None))"
   ]
  }
 ],
 "metadata": {
  "kernelspec": {
   "display_name": "Python 3",
   "language": "python",
   "name": "python3"
  },
  "language_info": {
   "codemirror_mode": {
    "name": "ipython",
    "version": 3
   },
   "file_extension": ".py",
   "mimetype": "text/x-python",
   "name": "python",
   "nbconvert_exporter": "python",
   "pygments_lexer": "ipython3",
   "version": "3.7.3"
  }
 },
 "nbformat": 4,
 "nbformat_minor": 4
}
